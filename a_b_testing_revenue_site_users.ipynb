{
  "cells": [
    {
      "cell_type": "markdown",
      "metadata": {
        "id": "view-in-github",
        "colab_type": "text"
      },
      "source": [
        "<a href=\"https://colab.research.google.com/github/mermovich/analytics/blob/main/a_b_testing_revenue_site_users.ipynb\" target=\"_parent\"><img src=\"https://colab.research.google.com/assets/colab-badge.svg\" alt=\"Open In Colab\"/></a>"
      ]
    },
    {
      "cell_type": "markdown",
      "id": "61db160e",
      "metadata": {
        "papermill": {
          "duration": 0.007587,
          "end_time": "2023-04-09T20:37:22.566224",
          "exception": false,
          "start_time": "2023-04-09T20:37:22.558637",
          "status": "completed"
        },
        "tags": [],
        "id": "61db160e"
      },
      "source": [
        "### 📓 Desciption\n",
        "\n",
        "The site launched an A/B test in order to increase income. The excel file contains raw data on the results of the experiment (user_id), sample type (variant_name) and income brought by the user (revenue).\n",
        "The task is to analyze the results of the experiment and write your recommendations.\n",
        "\n",
        "https://www.kaggle.com/datasets/sergylog/ab-test-data\n",
        "\n",
        "<br>\n",
        "\n",
        "### 🖊 We will analyse the following\n",
        "- Data Preprocessing\n",
        "- Exploratory Data Analysis\n",
        "- Check Normality: Shapiro Test.\n",
        "- Check Variences: Levene Test.\n",
        "- AB tests: Mann Whitney U Test.\n",
        "- Make inferences"
      ]
    },
    {
      "cell_type": "markdown",
      "id": "c0aadd03",
      "metadata": {
        "papermill": {
          "duration": 0.006184,
          "end_time": "2023-04-09T20:37:22.579039",
          "exception": false,
          "start_time": "2023-04-09T20:37:22.572855",
          "status": "completed"
        },
        "tags": [],
        "id": "c0aadd03"
      },
      "source": [
        "## ⚙ Libraries and Settings "
      ]
    },
    {
      "cell_type": "code",
      "execution_count": 1,
      "id": "fd4d08a6",
      "metadata": {
        "execution": {
          "iopub.execute_input": "2023-04-09T20:37:22.593664Z",
          "iopub.status.busy": "2023-04-09T20:37:22.593263Z",
          "iopub.status.idle": "2023-04-09T20:37:24.113609Z",
          "shell.execute_reply": "2023-04-09T20:37:24.111954Z"
        },
        "papermill": {
          "duration": 1.53073,
          "end_time": "2023-04-09T20:37:24.116260",
          "exception": false,
          "start_time": "2023-04-09T20:37:22.585530",
          "status": "completed"
        },
        "tags": [],
        "id": "fd4d08a6"
      },
      "outputs": [],
      "source": [
        "import pandas as pd \n",
        "import numpy as np\n",
        "import seaborn as sns\n",
        "import matplotlib.pyplot as plt \n",
        "# import scipy.stats\n",
        "# from scipy import stats as st\n",
        "import pylab  \n",
        "import scipy.stats as stats\n",
        "from scipy.stats import shapiro\n",
        "from scipy.stats import mannwhitneyu\n",
        "from scipy.stats import levene\n",
        "# import statsmodels.stats.api as sms\n",
        "\n",
        "import warnings\n",
        "warnings.filterwarnings('ignore')\n",
        "\n",
        "pd.set_option('display.max_rows', None)\n",
        "pd.set_option('display.max_columns', None)\n",
        "pd.set_option('display.width', 2000)\n",
        "pd.set_option('display.float_format', '{:20,.3f}'.format)\n",
        "pd.set_option('display.max_colwidth', None) "
      ]
    },
    {
      "cell_type": "markdown",
      "id": "4936d6ae",
      "metadata": {
        "papermill": {
          "duration": 0.006198,
          "end_time": "2023-04-09T20:37:24.129062",
          "exception": false,
          "start_time": "2023-04-09T20:37:24.122864",
          "status": "completed"
        },
        "tags": [],
        "id": "4936d6ae"
      },
      "source": [
        "## 📂 Data download and preprocessing \n",
        "\n"
      ]
    },
    {
      "cell_type": "code",
      "source": [
        "! gdown --id 1MNUtK-3JI9aFNSU3a5SVDJgoRPX27-bA"
      ],
      "metadata": {
        "colab": {
          "base_uri": "https://localhost:8080/"
        },
        "id": "GGAv-I3jwnrV",
        "outputId": "a93d4662-f3f6-4a0c-e1b9-1f01c7bea47a"
      },
      "id": "GGAv-I3jwnrV",
      "execution_count": 2,
      "outputs": [
        {
          "output_type": "stream",
          "name": "stdout",
          "text": [
            "/usr/local/lib/python3.9/dist-packages/gdown/cli.py:121: FutureWarning: Option `--id` was deprecated in version 4.3.1 and will be removed in 5.0. You don't need to pass it anymore to use a file ID.\n",
            "  warnings.warn(\n",
            "Downloading...\n",
            "From: https://drive.google.com/uc?id=1MNUtK-3JI9aFNSU3a5SVDJgoRPX27-bA\n",
            "To: /content/AB_Test_Results.csv\n",
            "100% 169k/169k [00:00<00:00, 41.9MB/s]\n"
          ]
        }
      ]
    },
    {
      "cell_type": "code",
      "execution_count": 3,
      "id": "ecab48ef",
      "metadata": {
        "execution": {
          "iopub.execute_input": "2023-04-09T20:37:24.143698Z",
          "iopub.status.busy": "2023-04-09T20:37:24.143286Z",
          "iopub.status.idle": "2023-04-09T20:37:24.187722Z",
          "shell.execute_reply": "2023-04-09T20:37:24.186635Z"
        },
        "papermill": {
          "duration": 0.054349,
          "end_time": "2023-04-09T20:37:24.189814",
          "exception": false,
          "start_time": "2023-04-09T20:37:24.135465",
          "status": "completed"
        },
        "tags": [],
        "colab": {
          "base_uri": "https://localhost:8080/",
          "height": 206
        },
        "id": "ecab48ef",
        "outputId": "42c2fa36-bdae-43c9-8461-2c5f9dfe8266"
      },
      "outputs": [
        {
          "output_type": "execute_result",
          "data": {
            "text/plain": [
              "      user_id variant_name              revenue\n",
              "9995     1981      control                0.000\n",
              "9996      502      variant                0.000\n",
              "9997     9214      variant                0.000\n",
              "9998     7741      control                0.000\n",
              "9999     9468      control                0.000"
            ],
            "text/html": [
              "\n",
              "  <div id=\"df-9fa79a89-d086-4000-ad77-1030ac636e37\">\n",
              "    <div class=\"colab-df-container\">\n",
              "      <div>\n",
              "<style scoped>\n",
              "    .dataframe tbody tr th:only-of-type {\n",
              "        vertical-align: middle;\n",
              "    }\n",
              "\n",
              "    .dataframe tbody tr th {\n",
              "        vertical-align: top;\n",
              "    }\n",
              "\n",
              "    .dataframe thead th {\n",
              "        text-align: right;\n",
              "    }\n",
              "</style>\n",
              "<table border=\"1\" class=\"dataframe\">\n",
              "  <thead>\n",
              "    <tr style=\"text-align: right;\">\n",
              "      <th></th>\n",
              "      <th>user_id</th>\n",
              "      <th>variant_name</th>\n",
              "      <th>revenue</th>\n",
              "    </tr>\n",
              "  </thead>\n",
              "  <tbody>\n",
              "    <tr>\n",
              "      <th>9995</th>\n",
              "      <td>1981</td>\n",
              "      <td>control</td>\n",
              "      <td>0.000</td>\n",
              "    </tr>\n",
              "    <tr>\n",
              "      <th>9996</th>\n",
              "      <td>502</td>\n",
              "      <td>variant</td>\n",
              "      <td>0.000</td>\n",
              "    </tr>\n",
              "    <tr>\n",
              "      <th>9997</th>\n",
              "      <td>9214</td>\n",
              "      <td>variant</td>\n",
              "      <td>0.000</td>\n",
              "    </tr>\n",
              "    <tr>\n",
              "      <th>9998</th>\n",
              "      <td>7741</td>\n",
              "      <td>control</td>\n",
              "      <td>0.000</td>\n",
              "    </tr>\n",
              "    <tr>\n",
              "      <th>9999</th>\n",
              "      <td>9468</td>\n",
              "      <td>control</td>\n",
              "      <td>0.000</td>\n",
              "    </tr>\n",
              "  </tbody>\n",
              "</table>\n",
              "</div>\n",
              "      <button class=\"colab-df-convert\" onclick=\"convertToInteractive('df-9fa79a89-d086-4000-ad77-1030ac636e37')\"\n",
              "              title=\"Convert this dataframe to an interactive table.\"\n",
              "              style=\"display:none;\">\n",
              "        \n",
              "  <svg xmlns=\"http://www.w3.org/2000/svg\" height=\"24px\"viewBox=\"0 0 24 24\"\n",
              "       width=\"24px\">\n",
              "    <path d=\"M0 0h24v24H0V0z\" fill=\"none\"/>\n",
              "    <path d=\"M18.56 5.44l.94 2.06.94-2.06 2.06-.94-2.06-.94-.94-2.06-.94 2.06-2.06.94zm-11 1L8.5 8.5l.94-2.06 2.06-.94-2.06-.94L8.5 2.5l-.94 2.06-2.06.94zm10 10l.94 2.06.94-2.06 2.06-.94-2.06-.94-.94-2.06-.94 2.06-2.06.94z\"/><path d=\"M17.41 7.96l-1.37-1.37c-.4-.4-.92-.59-1.43-.59-.52 0-1.04.2-1.43.59L10.3 9.45l-7.72 7.72c-.78.78-.78 2.05 0 2.83L4 21.41c.39.39.9.59 1.41.59.51 0 1.02-.2 1.41-.59l7.78-7.78 2.81-2.81c.8-.78.8-2.07 0-2.86zM5.41 20L4 18.59l7.72-7.72 1.47 1.35L5.41 20z\"/>\n",
              "  </svg>\n",
              "      </button>\n",
              "      \n",
              "  <style>\n",
              "    .colab-df-container {\n",
              "      display:flex;\n",
              "      flex-wrap:wrap;\n",
              "      gap: 12px;\n",
              "    }\n",
              "\n",
              "    .colab-df-convert {\n",
              "      background-color: #E8F0FE;\n",
              "      border: none;\n",
              "      border-radius: 50%;\n",
              "      cursor: pointer;\n",
              "      display: none;\n",
              "      fill: #1967D2;\n",
              "      height: 32px;\n",
              "      padding: 0 0 0 0;\n",
              "      width: 32px;\n",
              "    }\n",
              "\n",
              "    .colab-df-convert:hover {\n",
              "      background-color: #E2EBFA;\n",
              "      box-shadow: 0px 1px 2px rgba(60, 64, 67, 0.3), 0px 1px 3px 1px rgba(60, 64, 67, 0.15);\n",
              "      fill: #174EA6;\n",
              "    }\n",
              "\n",
              "    [theme=dark] .colab-df-convert {\n",
              "      background-color: #3B4455;\n",
              "      fill: #D2E3FC;\n",
              "    }\n",
              "\n",
              "    [theme=dark] .colab-df-convert:hover {\n",
              "      background-color: #434B5C;\n",
              "      box-shadow: 0px 1px 3px 1px rgba(0, 0, 0, 0.15);\n",
              "      filter: drop-shadow(0px 1px 2px rgba(0, 0, 0, 0.3));\n",
              "      fill: #FFFFFF;\n",
              "    }\n",
              "  </style>\n",
              "\n",
              "      <script>\n",
              "        const buttonEl =\n",
              "          document.querySelector('#df-9fa79a89-d086-4000-ad77-1030ac636e37 button.colab-df-convert');\n",
              "        buttonEl.style.display =\n",
              "          google.colab.kernel.accessAllowed ? 'block' : 'none';\n",
              "\n",
              "        async function convertToInteractive(key) {\n",
              "          const element = document.querySelector('#df-9fa79a89-d086-4000-ad77-1030ac636e37');\n",
              "          const dataTable =\n",
              "            await google.colab.kernel.invokeFunction('convertToInteractive',\n",
              "                                                     [key], {});\n",
              "          if (!dataTable) return;\n",
              "\n",
              "          const docLinkHtml = 'Like what you see? Visit the ' +\n",
              "            '<a target=\"_blank\" href=https://colab.research.google.com/notebooks/data_table.ipynb>data table notebook</a>'\n",
              "            + ' to learn more about interactive tables.';\n",
              "          element.innerHTML = '';\n",
              "          dataTable['output_type'] = 'display_data';\n",
              "          await google.colab.output.renderOutput(dataTable, element);\n",
              "          const docLink = document.createElement('div');\n",
              "          docLink.innerHTML = docLinkHtml;\n",
              "          element.appendChild(docLink);\n",
              "        }\n",
              "      </script>\n",
              "    </div>\n",
              "  </div>\n",
              "  "
            ]
          },
          "metadata": {},
          "execution_count": 3
        }
      ],
      "source": [
        "df = pd.read_csv('/content/AB_Test_Results.csv')\n",
        "df.columns = df.columns.str.lower()\n",
        "df.tail() "
      ]
    },
    {
      "cell_type": "code",
      "execution_count": 4,
      "id": "3e1e868d",
      "metadata": {
        "execution": {
          "iopub.execute_input": "2023-04-09T20:37:24.205132Z",
          "iopub.status.busy": "2023-04-09T20:37:24.204725Z",
          "iopub.status.idle": "2023-04-09T20:37:24.231112Z",
          "shell.execute_reply": "2023-04-09T20:37:24.229704Z"
        },
        "papermill": {
          "duration": 0.037214,
          "end_time": "2023-04-09T20:37:24.233740",
          "exception": false,
          "start_time": "2023-04-09T20:37:24.196526",
          "status": "completed"
        },
        "tags": [],
        "colab": {
          "base_uri": "https://localhost:8080/"
        },
        "id": "3e1e868d",
        "outputId": "f933c862-f0d4-4238-8d36-2176e962ad8b"
      },
      "outputs": [
        {
          "output_type": "stream",
          "name": "stdout",
          "text": [
            "<class 'pandas.core.frame.DataFrame'>\n",
            "RangeIndex: 10000 entries, 0 to 9999\n",
            "Data columns (total 3 columns):\n",
            " #   Column        Non-Null Count  Dtype  \n",
            "---  ------        --------------  -----  \n",
            " 0   user_id       10000 non-null  int64  \n",
            " 1   variant_name  10000 non-null  object \n",
            " 2   revenue       10000 non-null  float64\n",
            "dtypes: float64(1), int64(1), object(1)\n",
            "memory usage: 234.5+ KB\n"
          ]
        }
      ],
      "source": [
        "df.info()"
      ]
    },
    {
      "cell_type": "code",
      "execution_count": 5,
      "id": "1baaa9e9",
      "metadata": {
        "execution": {
          "iopub.execute_input": "2023-04-09T20:37:24.249596Z",
          "iopub.status.busy": "2023-04-09T20:37:24.249000Z",
          "iopub.status.idle": "2023-04-09T20:37:24.273529Z",
          "shell.execute_reply": "2023-04-09T20:37:24.271974Z"
        },
        "papermill": {
          "duration": 0.03556,
          "end_time": "2023-04-09T20:37:24.276325",
          "exception": false,
          "start_time": "2023-04-09T20:37:24.240765",
          "status": "completed"
        },
        "tags": [],
        "colab": {
          "base_uri": "https://localhost:8080/",
          "height": 394
        },
        "id": "1baaa9e9",
        "outputId": "9be373ad-b08e-428a-c476-e5879b336ddf"
      },
      "outputs": [
        {
          "output_type": "execute_result",
          "data": {
            "text/plain": [
              "                   user_id              revenue\n",
              "count           10,000.000           10,000.000\n",
              "mean             4,981.080                0.099\n",
              "std              2,890.590                2.319\n",
              "min                  2.000                0.000\n",
              "25%              2,468.750                0.000\n",
              "50%              4,962.000                0.000\n",
              "75%              7,511.500                0.000\n",
              "95%              9,488.100                0.000\n",
              "99%              9,914.010                1.661\n",
              "100%            10,000.000              196.010\n",
              "max             10,000.000              196.010"
            ],
            "text/html": [
              "\n",
              "  <div id=\"df-8dbd4219-4c49-4b62-bf7c-f8152738afc6\">\n",
              "    <div class=\"colab-df-container\">\n",
              "      <div>\n",
              "<style scoped>\n",
              "    .dataframe tbody tr th:only-of-type {\n",
              "        vertical-align: middle;\n",
              "    }\n",
              "\n",
              "    .dataframe tbody tr th {\n",
              "        vertical-align: top;\n",
              "    }\n",
              "\n",
              "    .dataframe thead th {\n",
              "        text-align: right;\n",
              "    }\n",
              "</style>\n",
              "<table border=\"1\" class=\"dataframe\">\n",
              "  <thead>\n",
              "    <tr style=\"text-align: right;\">\n",
              "      <th></th>\n",
              "      <th>user_id</th>\n",
              "      <th>revenue</th>\n",
              "    </tr>\n",
              "  </thead>\n",
              "  <tbody>\n",
              "    <tr>\n",
              "      <th>count</th>\n",
              "      <td>10,000.000</td>\n",
              "      <td>10,000.000</td>\n",
              "    </tr>\n",
              "    <tr>\n",
              "      <th>mean</th>\n",
              "      <td>4,981.080</td>\n",
              "      <td>0.099</td>\n",
              "    </tr>\n",
              "    <tr>\n",
              "      <th>std</th>\n",
              "      <td>2,890.590</td>\n",
              "      <td>2.319</td>\n",
              "    </tr>\n",
              "    <tr>\n",
              "      <th>min</th>\n",
              "      <td>2.000</td>\n",
              "      <td>0.000</td>\n",
              "    </tr>\n",
              "    <tr>\n",
              "      <th>25%</th>\n",
              "      <td>2,468.750</td>\n",
              "      <td>0.000</td>\n",
              "    </tr>\n",
              "    <tr>\n",
              "      <th>50%</th>\n",
              "      <td>4,962.000</td>\n",
              "      <td>0.000</td>\n",
              "    </tr>\n",
              "    <tr>\n",
              "      <th>75%</th>\n",
              "      <td>7,511.500</td>\n",
              "      <td>0.000</td>\n",
              "    </tr>\n",
              "    <tr>\n",
              "      <th>95%</th>\n",
              "      <td>9,488.100</td>\n",
              "      <td>0.000</td>\n",
              "    </tr>\n",
              "    <tr>\n",
              "      <th>99%</th>\n",
              "      <td>9,914.010</td>\n",
              "      <td>1.661</td>\n",
              "    </tr>\n",
              "    <tr>\n",
              "      <th>100%</th>\n",
              "      <td>10,000.000</td>\n",
              "      <td>196.010</td>\n",
              "    </tr>\n",
              "    <tr>\n",
              "      <th>max</th>\n",
              "      <td>10,000.000</td>\n",
              "      <td>196.010</td>\n",
              "    </tr>\n",
              "  </tbody>\n",
              "</table>\n",
              "</div>\n",
              "      <button class=\"colab-df-convert\" onclick=\"convertToInteractive('df-8dbd4219-4c49-4b62-bf7c-f8152738afc6')\"\n",
              "              title=\"Convert this dataframe to an interactive table.\"\n",
              "              style=\"display:none;\">\n",
              "        \n",
              "  <svg xmlns=\"http://www.w3.org/2000/svg\" height=\"24px\"viewBox=\"0 0 24 24\"\n",
              "       width=\"24px\">\n",
              "    <path d=\"M0 0h24v24H0V0z\" fill=\"none\"/>\n",
              "    <path d=\"M18.56 5.44l.94 2.06.94-2.06 2.06-.94-2.06-.94-.94-2.06-.94 2.06-2.06.94zm-11 1L8.5 8.5l.94-2.06 2.06-.94-2.06-.94L8.5 2.5l-.94 2.06-2.06.94zm10 10l.94 2.06.94-2.06 2.06-.94-2.06-.94-.94-2.06-.94 2.06-2.06.94z\"/><path d=\"M17.41 7.96l-1.37-1.37c-.4-.4-.92-.59-1.43-.59-.52 0-1.04.2-1.43.59L10.3 9.45l-7.72 7.72c-.78.78-.78 2.05 0 2.83L4 21.41c.39.39.9.59 1.41.59.51 0 1.02-.2 1.41-.59l7.78-7.78 2.81-2.81c.8-.78.8-2.07 0-2.86zM5.41 20L4 18.59l7.72-7.72 1.47 1.35L5.41 20z\"/>\n",
              "  </svg>\n",
              "      </button>\n",
              "      \n",
              "  <style>\n",
              "    .colab-df-container {\n",
              "      display:flex;\n",
              "      flex-wrap:wrap;\n",
              "      gap: 12px;\n",
              "    }\n",
              "\n",
              "    .colab-df-convert {\n",
              "      background-color: #E8F0FE;\n",
              "      border: none;\n",
              "      border-radius: 50%;\n",
              "      cursor: pointer;\n",
              "      display: none;\n",
              "      fill: #1967D2;\n",
              "      height: 32px;\n",
              "      padding: 0 0 0 0;\n",
              "      width: 32px;\n",
              "    }\n",
              "\n",
              "    .colab-df-convert:hover {\n",
              "      background-color: #E2EBFA;\n",
              "      box-shadow: 0px 1px 2px rgba(60, 64, 67, 0.3), 0px 1px 3px 1px rgba(60, 64, 67, 0.15);\n",
              "      fill: #174EA6;\n",
              "    }\n",
              "\n",
              "    [theme=dark] .colab-df-convert {\n",
              "      background-color: #3B4455;\n",
              "      fill: #D2E3FC;\n",
              "    }\n",
              "\n",
              "    [theme=dark] .colab-df-convert:hover {\n",
              "      background-color: #434B5C;\n",
              "      box-shadow: 0px 1px 3px 1px rgba(0, 0, 0, 0.15);\n",
              "      filter: drop-shadow(0px 1px 2px rgba(0, 0, 0, 0.3));\n",
              "      fill: #FFFFFF;\n",
              "    }\n",
              "  </style>\n",
              "\n",
              "      <script>\n",
              "        const buttonEl =\n",
              "          document.querySelector('#df-8dbd4219-4c49-4b62-bf7c-f8152738afc6 button.colab-df-convert');\n",
              "        buttonEl.style.display =\n",
              "          google.colab.kernel.accessAllowed ? 'block' : 'none';\n",
              "\n",
              "        async function convertToInteractive(key) {\n",
              "          const element = document.querySelector('#df-8dbd4219-4c49-4b62-bf7c-f8152738afc6');\n",
              "          const dataTable =\n",
              "            await google.colab.kernel.invokeFunction('convertToInteractive',\n",
              "                                                     [key], {});\n",
              "          if (!dataTable) return;\n",
              "\n",
              "          const docLinkHtml = 'Like what you see? Visit the ' +\n",
              "            '<a target=\"_blank\" href=https://colab.research.google.com/notebooks/data_table.ipynb>data table notebook</a>'\n",
              "            + ' to learn more about interactive tables.';\n",
              "          element.innerHTML = '';\n",
              "          dataTable['output_type'] = 'display_data';\n",
              "          await google.colab.output.renderOutput(dataTable, element);\n",
              "          const docLink = document.createElement('div');\n",
              "          docLink.innerHTML = docLinkHtml;\n",
              "          element.appendChild(docLink);\n",
              "        }\n",
              "      </script>\n",
              "    </div>\n",
              "  </div>\n",
              "  "
            ]
          },
          "metadata": {},
          "execution_count": 5
        }
      ],
      "source": [
        "df.describe([0.25, 0.50, 0.75, 0.95, 0.99, 1])"
      ]
    },
    {
      "cell_type": "code",
      "execution_count": 6,
      "id": "c58c1fd8",
      "metadata": {
        "execution": {
          "iopub.execute_input": "2023-04-09T20:37:24.293712Z",
          "iopub.status.busy": "2023-04-09T20:37:24.292516Z",
          "iopub.status.idle": "2023-04-09T20:37:24.304443Z",
          "shell.execute_reply": "2023-04-09T20:37:24.303172Z"
        },
        "papermill": {
          "duration": 0.023713,
          "end_time": "2023-04-09T20:37:24.307188",
          "exception": false,
          "start_time": "2023-04-09T20:37:24.283475",
          "status": "completed"
        },
        "tags": [],
        "colab": {
          "base_uri": "https://localhost:8080/"
        },
        "id": "c58c1fd8",
        "outputId": "acd21281-e19a-4b5b-d6b7-4dae3734313c"
      },
      "outputs": [
        {
          "output_type": "execute_result",
          "data": {
            "text/plain": [
              "user_id         0\n",
              "variant_name    0\n",
              "revenue         0\n",
              "dtype: int64"
            ]
          },
          "metadata": {},
          "execution_count": 6
        }
      ],
      "source": [
        "df.isnull().sum()"
      ]
    },
    {
      "cell_type": "code",
      "execution_count": 7,
      "id": "b1fd16cb",
      "metadata": {
        "execution": {
          "iopub.execute_input": "2023-04-09T20:37:24.323041Z",
          "iopub.status.busy": "2023-04-09T20:37:24.322632Z",
          "iopub.status.idle": "2023-04-09T20:37:24.335768Z",
          "shell.execute_reply": "2023-04-09T20:37:24.334433Z"
        },
        "papermill": {
          "duration": 0.024412,
          "end_time": "2023-04-09T20:37:24.338621",
          "exception": false,
          "start_time": "2023-04-09T20:37:24.314209",
          "status": "completed"
        },
        "tags": [],
        "colab": {
          "base_uri": "https://localhost:8080/"
        },
        "id": "b1fd16cb",
        "outputId": "405563b5-edb6-424d-963b-1bf05d4eb30f"
      },
      "outputs": [
        {
          "output_type": "execute_result",
          "data": {
            "text/plain": [
              "2067"
            ]
          },
          "metadata": {},
          "execution_count": 7
        }
      ],
      "source": [
        "df.duplicated().sum()"
      ]
    },
    {
      "cell_type": "code",
      "execution_count": 8,
      "id": "0aa8f2da",
      "metadata": {
        "execution": {
          "iopub.execute_input": "2023-04-09T20:37:24.354612Z",
          "iopub.status.busy": "2023-04-09T20:37:24.354209Z",
          "iopub.status.idle": "2023-04-09T20:37:24.363579Z",
          "shell.execute_reply": "2023-04-09T20:37:24.362428Z"
        },
        "papermill": {
          "duration": 0.020626,
          "end_time": "2023-04-09T20:37:24.366553",
          "exception": false,
          "start_time": "2023-04-09T20:37:24.345927",
          "status": "completed"
        },
        "tags": [],
        "colab": {
          "base_uri": "https://localhost:8080/"
        },
        "id": "0aa8f2da",
        "outputId": "bd8e3f6d-95fc-48bc-c760-9958898675ce"
      },
      "outputs": [
        {
          "output_type": "execute_result",
          "data": {
            "text/plain": [
              "6324"
            ]
          },
          "metadata": {},
          "execution_count": 8
        }
      ],
      "source": [
        "df['user_id'].nunique()"
      ]
    },
    {
      "cell_type": "code",
      "execution_count": 9,
      "id": "7d51d3be",
      "metadata": {
        "execution": {
          "iopub.execute_input": "2023-04-09T20:37:24.383171Z",
          "iopub.status.busy": "2023-04-09T20:37:24.382775Z",
          "iopub.status.idle": "2023-04-09T20:37:24.397362Z",
          "shell.execute_reply": "2023-04-09T20:37:24.395912Z"
        },
        "papermill": {
          "duration": 0.026149,
          "end_time": "2023-04-09T20:37:24.400175",
          "exception": false,
          "start_time": "2023-04-09T20:37:24.374026",
          "status": "completed"
        },
        "tags": [],
        "colab": {
          "base_uri": "https://localhost:8080/"
        },
        "id": "7d51d3be",
        "outputId": "90198922-b9ef-42fe-cac0-8d5f8d8f9ffc"
      },
      "outputs": [
        {
          "output_type": "execute_result",
          "data": {
            "text/plain": [
              "1                  0.756\n",
              "2                  0.244\n",
              "Name: variant_name, dtype: float64"
            ]
          },
          "metadata": {},
          "execution_count": 9
        }
      ],
      "source": [
        "duplicates = df.groupby('user_id')['variant_name'].nunique().reset_index()\n",
        "duplicates['variant_name'].value_counts(normalize=True)"
      ]
    },
    {
      "cell_type": "markdown",
      "source": [
        "- Around 25% users are in two groups. Delete them. "
      ],
      "metadata": {
        "id": "bnLyYse71z9G"
      },
      "id": "bnLyYse71z9G"
    },
    {
      "cell_type": "code",
      "execution_count": 10,
      "id": "1b96bc9d",
      "metadata": {
        "execution": {
          "iopub.execute_input": "2023-04-09T20:37:24.416891Z",
          "iopub.status.busy": "2023-04-09T20:37:24.416492Z",
          "iopub.status.idle": "2023-04-09T20:37:24.440156Z",
          "shell.execute_reply": "2023-04-09T20:37:24.439026Z"
        },
        "papermill": {
          "duration": 0.03473,
          "end_time": "2023-04-09T20:37:24.442773",
          "exception": false,
          "start_time": "2023-04-09T20:37:24.408043",
          "status": "completed"
        },
        "tags": [],
        "colab": {
          "base_uri": "https://localhost:8080/",
          "height": 363
        },
        "id": "1b96bc9d",
        "outputId": "8a5c3ab7-36a2-4006-99fb-1edb0607dbaf"
      },
      "outputs": [
        {
          "output_type": "execute_result",
          "data": {
            "text/plain": [
              "                   user_id              revenue\n",
              "count            6,070.000            6,070.000\n",
              "mean             4,983.664                0.107\n",
              "std              2,897.990                2.674\n",
              "min                  2.000                0.000\n",
              "25%              2,472.250                0.000\n",
              "50%              4,950.000                0.000\n",
              "75%              7,501.000                0.000\n",
              "95%              9,521.550                0.000\n",
              "99%              9,920.310                2.160\n",
              "max              9,998.000              196.010"
            ],
            "text/html": [
              "\n",
              "  <div id=\"df-36506c5c-d625-43c8-9b5c-b73a5283ec66\">\n",
              "    <div class=\"colab-df-container\">\n",
              "      <div>\n",
              "<style scoped>\n",
              "    .dataframe tbody tr th:only-of-type {\n",
              "        vertical-align: middle;\n",
              "    }\n",
              "\n",
              "    .dataframe tbody tr th {\n",
              "        vertical-align: top;\n",
              "    }\n",
              "\n",
              "    .dataframe thead th {\n",
              "        text-align: right;\n",
              "    }\n",
              "</style>\n",
              "<table border=\"1\" class=\"dataframe\">\n",
              "  <thead>\n",
              "    <tr style=\"text-align: right;\">\n",
              "      <th></th>\n",
              "      <th>user_id</th>\n",
              "      <th>revenue</th>\n",
              "    </tr>\n",
              "  </thead>\n",
              "  <tbody>\n",
              "    <tr>\n",
              "      <th>count</th>\n",
              "      <td>6,070.000</td>\n",
              "      <td>6,070.000</td>\n",
              "    </tr>\n",
              "    <tr>\n",
              "      <th>mean</th>\n",
              "      <td>4,983.664</td>\n",
              "      <td>0.107</td>\n",
              "    </tr>\n",
              "    <tr>\n",
              "      <th>std</th>\n",
              "      <td>2,897.990</td>\n",
              "      <td>2.674</td>\n",
              "    </tr>\n",
              "    <tr>\n",
              "      <th>min</th>\n",
              "      <td>2.000</td>\n",
              "      <td>0.000</td>\n",
              "    </tr>\n",
              "    <tr>\n",
              "      <th>25%</th>\n",
              "      <td>2,472.250</td>\n",
              "      <td>0.000</td>\n",
              "    </tr>\n",
              "    <tr>\n",
              "      <th>50%</th>\n",
              "      <td>4,950.000</td>\n",
              "      <td>0.000</td>\n",
              "    </tr>\n",
              "    <tr>\n",
              "      <th>75%</th>\n",
              "      <td>7,501.000</td>\n",
              "      <td>0.000</td>\n",
              "    </tr>\n",
              "    <tr>\n",
              "      <th>95%</th>\n",
              "      <td>9,521.550</td>\n",
              "      <td>0.000</td>\n",
              "    </tr>\n",
              "    <tr>\n",
              "      <th>99%</th>\n",
              "      <td>9,920.310</td>\n",
              "      <td>2.160</td>\n",
              "    </tr>\n",
              "    <tr>\n",
              "      <th>max</th>\n",
              "      <td>9,998.000</td>\n",
              "      <td>196.010</td>\n",
              "    </tr>\n",
              "  </tbody>\n",
              "</table>\n",
              "</div>\n",
              "      <button class=\"colab-df-convert\" onclick=\"convertToInteractive('df-36506c5c-d625-43c8-9b5c-b73a5283ec66')\"\n",
              "              title=\"Convert this dataframe to an interactive table.\"\n",
              "              style=\"display:none;\">\n",
              "        \n",
              "  <svg xmlns=\"http://www.w3.org/2000/svg\" height=\"24px\"viewBox=\"0 0 24 24\"\n",
              "       width=\"24px\">\n",
              "    <path d=\"M0 0h24v24H0V0z\" fill=\"none\"/>\n",
              "    <path d=\"M18.56 5.44l.94 2.06.94-2.06 2.06-.94-2.06-.94-.94-2.06-.94 2.06-2.06.94zm-11 1L8.5 8.5l.94-2.06 2.06-.94-2.06-.94L8.5 2.5l-.94 2.06-2.06.94zm10 10l.94 2.06.94-2.06 2.06-.94-2.06-.94-.94-2.06-.94 2.06-2.06.94z\"/><path d=\"M17.41 7.96l-1.37-1.37c-.4-.4-.92-.59-1.43-.59-.52 0-1.04.2-1.43.59L10.3 9.45l-7.72 7.72c-.78.78-.78 2.05 0 2.83L4 21.41c.39.39.9.59 1.41.59.51 0 1.02-.2 1.41-.59l7.78-7.78 2.81-2.81c.8-.78.8-2.07 0-2.86zM5.41 20L4 18.59l7.72-7.72 1.47 1.35L5.41 20z\"/>\n",
              "  </svg>\n",
              "      </button>\n",
              "      \n",
              "  <style>\n",
              "    .colab-df-container {\n",
              "      display:flex;\n",
              "      flex-wrap:wrap;\n",
              "      gap: 12px;\n",
              "    }\n",
              "\n",
              "    .colab-df-convert {\n",
              "      background-color: #E8F0FE;\n",
              "      border: none;\n",
              "      border-radius: 50%;\n",
              "      cursor: pointer;\n",
              "      display: none;\n",
              "      fill: #1967D2;\n",
              "      height: 32px;\n",
              "      padding: 0 0 0 0;\n",
              "      width: 32px;\n",
              "    }\n",
              "\n",
              "    .colab-df-convert:hover {\n",
              "      background-color: #E2EBFA;\n",
              "      box-shadow: 0px 1px 2px rgba(60, 64, 67, 0.3), 0px 1px 3px 1px rgba(60, 64, 67, 0.15);\n",
              "      fill: #174EA6;\n",
              "    }\n",
              "\n",
              "    [theme=dark] .colab-df-convert {\n",
              "      background-color: #3B4455;\n",
              "      fill: #D2E3FC;\n",
              "    }\n",
              "\n",
              "    [theme=dark] .colab-df-convert:hover {\n",
              "      background-color: #434B5C;\n",
              "      box-shadow: 0px 1px 3px 1px rgba(0, 0, 0, 0.15);\n",
              "      filter: drop-shadow(0px 1px 2px rgba(0, 0, 0, 0.3));\n",
              "      fill: #FFFFFF;\n",
              "    }\n",
              "  </style>\n",
              "\n",
              "      <script>\n",
              "        const buttonEl =\n",
              "          document.querySelector('#df-36506c5c-d625-43c8-9b5c-b73a5283ec66 button.colab-df-convert');\n",
              "        buttonEl.style.display =\n",
              "          google.colab.kernel.accessAllowed ? 'block' : 'none';\n",
              "\n",
              "        async function convertToInteractive(key) {\n",
              "          const element = document.querySelector('#df-36506c5c-d625-43c8-9b5c-b73a5283ec66');\n",
              "          const dataTable =\n",
              "            await google.colab.kernel.invokeFunction('convertToInteractive',\n",
              "                                                     [key], {});\n",
              "          if (!dataTable) return;\n",
              "\n",
              "          const docLinkHtml = 'Like what you see? Visit the ' +\n",
              "            '<a target=\"_blank\" href=https://colab.research.google.com/notebooks/data_table.ipynb>data table notebook</a>'\n",
              "            + ' to learn more about interactive tables.';\n",
              "          element.innerHTML = '';\n",
              "          dataTable['output_type'] = 'display_data';\n",
              "          await google.colab.output.renderOutput(dataTable, element);\n",
              "          const docLink = document.createElement('div');\n",
              "          docLink.innerHTML = docLinkHtml;\n",
              "          element.appendChild(docLink);\n",
              "        }\n",
              "      </script>\n",
              "    </div>\n",
              "  </div>\n",
              "  "
            ]
          },
          "metadata": {},
          "execution_count": 10
        }
      ],
      "source": [
        "df = df[df['user_id'].isin(duplicates[duplicates['variant_name'] == 1]['user_id'])] \n",
        "df.describe([0.25, 0.50, 0.75, 0.95, 0.99])"
      ]
    },
    {
      "cell_type": "markdown",
      "source": [
        "- More then 95% of all users - not paying users."
      ],
      "metadata": {
        "id": "a_q0coRD1hZf"
      },
      "id": "a_q0coRD1hZf"
    },
    {
      "cell_type": "code",
      "execution_count": 11,
      "id": "9d08ebd9",
      "metadata": {
        "execution": {
          "iopub.execute_input": "2023-04-09T20:37:24.459590Z",
          "iopub.status.busy": "2023-04-09T20:37:24.459167Z",
          "iopub.status.idle": "2023-04-09T20:37:24.699195Z",
          "shell.execute_reply": "2023-04-09T20:37:24.698460Z"
        },
        "papermill": {
          "duration": 0.250931,
          "end_time": "2023-04-09T20:37:24.701390",
          "exception": false,
          "start_time": "2023-04-09T20:37:24.450459",
          "status": "completed"
        },
        "tags": [],
        "colab": {
          "base_uri": "https://localhost:8080/",
          "height": 466
        },
        "id": "9d08ebd9",
        "outputId": "32dbc514-a802-4963-a623-1cb7889e205b"
      },
      "outputs": [
        {
          "output_type": "execute_result",
          "data": {
            "text/plain": [
              "<Axes: xlabel='revenue', ylabel='variant_name'>"
            ]
          },
          "metadata": {},
          "execution_count": 11
        },
        {
          "output_type": "display_data",
          "data": {
            "text/plain": [
              "<Figure size 640x480 with 1 Axes>"
            ],
            "image/png": "[encoded data removed]"
          },
          "metadata": {}
        }
      ],
      "source": [
        "sns.boxplot(data = df, x = 'revenue', y = 'variant_name')"
      ]
    },
    {
      "cell_type": "markdown",
      "source": [
        "- There is one outlier here. Delete it."
      ],
      "metadata": {
        "id": "NMckuvrn1RKF"
      },
      "id": "NMckuvrn1RKF"
    },
    {
      "cell_type": "code",
      "execution_count": 12,
      "id": "7ae0acfa",
      "metadata": {
        "execution": {
          "iopub.execute_input": "2023-04-09T20:37:24.719836Z",
          "iopub.status.busy": "2023-04-09T20:37:24.718393Z",
          "iopub.status.idle": "2023-04-09T20:37:24.728401Z",
          "shell.execute_reply": "2023-04-09T20:37:24.727554Z"
        },
        "papermill": {
          "duration": 0.021356,
          "end_time": "2023-04-09T20:37:24.730477",
          "exception": false,
          "start_time": "2023-04-09T20:37:24.709121",
          "status": "completed"
        },
        "tags": [],
        "id": "7ae0acfa"
      },
      "outputs": [],
      "source": [
        "df = df.query('revenue < 175')"
      ]
    },
    {
      "cell_type": "markdown",
      "id": "915e6a3c",
      "metadata": {
        "papermill": {
          "duration": 0.007416,
          "end_time": "2023-04-09T20:37:24.745848",
          "exception": false,
          "start_time": "2023-04-09T20:37:24.738432",
          "status": "completed"
        },
        "tags": [],
        "id": "915e6a3c"
      },
      "source": [
        "- The data is ready, let's do EDA!"
      ]
    },
    {
      "cell_type": "markdown",
      "id": "2ed2a251",
      "metadata": {
        "papermill": {
          "duration": 0.007525,
          "end_time": "2023-04-09T20:37:24.761078",
          "exception": false,
          "start_time": "2023-04-09T20:37:24.753553",
          "status": "completed"
        },
        "tags": [],
        "id": "2ed2a251"
      },
      "source": [
        "## 📊  Exploratory Data Analysis\n"
      ]
    },
    {
      "cell_type": "markdown",
      "id": "778d6061",
      "metadata": {
        "papermill": {
          "duration": 0.007739,
          "end_time": "2023-04-09T20:37:24.776771",
          "exception": false,
          "start_time": "2023-04-09T20:37:24.769032",
          "status": "completed"
        },
        "tags": [],
        "id": "778d6061"
      },
      "source": [
        "#### All users"
      ]
    },
    {
      "cell_type": "code",
      "execution_count": 13,
      "id": "7ad337df",
      "metadata": {
        "execution": {
          "iopub.execute_input": "2023-04-09T20:37:24.793977Z",
          "iopub.status.busy": "2023-04-09T20:37:24.793638Z",
          "iopub.status.idle": "2023-04-09T20:37:24.822794Z",
          "shell.execute_reply": "2023-04-09T20:37:24.821585Z"
        },
        "papermill": {
          "duration": 0.040805,
          "end_time": "2023-04-09T20:37:24.825452",
          "exception": false,
          "start_time": "2023-04-09T20:37:24.784647",
          "status": "completed"
        },
        "tags": [],
        "colab": {
          "base_uri": "https://localhost:8080/",
          "height": 175
        },
        "id": "7ad337df",
        "outputId": "032d9859-f3fd-4c10-a5b0-228c0048cdf5"
      },
      "outputs": [
        {
          "output_type": "execute_result",
          "data": {
            "text/plain": [
              "             user_id revenue                                                                                                                              \n",
              "             nunique   count                  sum                 mean               median              perc_95              perc_99                  sum\n",
              "variant_name                                                                                                                                              \n",
              "control         2389    3025              274.550                0.091                0.000                0.000                2.311              274.550\n",
              "variant         2393    3044              179.320                0.059                0.000                0.000                1.279              179.320"
            ],
            "text/html": [
              "\n",
              "  <div id=\"df-857fe785-2920-426a-82b7-dd3112da73df\">\n",
              "    <div class=\"colab-df-container\">\n",
              "      <div>\n",
              "<style scoped>\n",
              "    .dataframe tbody tr th:only-of-type {\n",
              "        vertical-align: middle;\n",
              "    }\n",
              "\n",
              "    .dataframe tbody tr th {\n",
              "        vertical-align: top;\n",
              "    }\n",
              "\n",
              "    .dataframe thead tr th {\n",
              "        text-align: left;\n",
              "    }\n",
              "\n",
              "    .dataframe thead tr:last-of-type th {\n",
              "        text-align: right;\n",
              "    }\n",
              "</style>\n",
              "<table border=\"1\" class=\"dataframe\">\n",
              "  <thead>\n",
              "    <tr>\n",
              "      <th></th>\n",
              "      <th>user_id</th>\n",
              "      <th colspan=\"7\" halign=\"left\">revenue</th>\n",
              "    </tr>\n",
              "    <tr>\n",
              "      <th></th>\n",
              "      <th>nunique</th>\n",
              "      <th>count</th>\n",
              "      <th>sum</th>\n",
              "      <th>mean</th>\n",
              "      <th>median</th>\n",
              "      <th>perc_95</th>\n",
              "      <th>perc_99</th>\n",
              "      <th>sum</th>\n",
              "    </tr>\n",
              "    <tr>\n",
              "      <th>variant_name</th>\n",
              "      <th></th>\n",
              "      <th></th>\n",
              "      <th></th>\n",
              "      <th></th>\n",
              "      <th></th>\n",
              "      <th></th>\n",
              "      <th></th>\n",
              "      <th></th>\n",
              "    </tr>\n",
              "  </thead>\n",
              "  <tbody>\n",
              "    <tr>\n",
              "      <th>control</th>\n",
              "      <td>2389</td>\n",
              "      <td>3025</td>\n",
              "      <td>274.550</td>\n",
              "      <td>0.091</td>\n",
              "      <td>0.000</td>\n",
              "      <td>0.000</td>\n",
              "      <td>2.311</td>\n",
              "      <td>274.550</td>\n",
              "    </tr>\n",
              "    <tr>\n",
              "      <th>variant</th>\n",
              "      <td>2393</td>\n",
              "      <td>3044</td>\n",
              "      <td>179.320</td>\n",
              "      <td>0.059</td>\n",
              "      <td>0.000</td>\n",
              "      <td>0.000</td>\n",
              "      <td>1.279</td>\n",
              "      <td>179.320</td>\n",
              "    </tr>\n",
              "  </tbody>\n",
              "</table>\n",
              "</div>\n",
              "      <button class=\"colab-df-convert\" onclick=\"convertToInteractive('df-857fe785-2920-426a-82b7-dd3112da73df')\"\n",
              "              title=\"Convert this dataframe to an interactive table.\"\n",
              "              style=\"display:none;\">\n",
              "        \n",
              "  <svg xmlns=\"http://www.w3.org/2000/svg\" height=\"24px\"viewBox=\"0 0 24 24\"\n",
              "       width=\"24px\">\n",
              "    <path d=\"M0 0h24v24H0V0z\" fill=\"none\"/>\n",
              "    <path d=\"M18.56 5.44l.94 2.06.94-2.06 2.06-.94-2.06-.94-.94-2.06-.94 2.06-2.06.94zm-11 1L8.5 8.5l.94-2.06 2.06-.94-2.06-.94L8.5 2.5l-.94 2.06-2.06.94zm10 10l.94 2.06.94-2.06 2.06-.94-2.06-.94-.94-2.06-.94 2.06-2.06.94z\"/><path d=\"M17.41 7.96l-1.37-1.37c-.4-.4-.92-.59-1.43-.59-.52 0-1.04.2-1.43.59L10.3 9.45l-7.72 7.72c-.78.78-.78 2.05 0 2.83L4 21.41c.39.39.9.59 1.41.59.51 0 1.02-.2 1.41-.59l7.78-7.78 2.81-2.81c.8-.78.8-2.07 0-2.86zM5.41 20L4 18.59l7.72-7.72 1.47 1.35L5.41 20z\"/>\n",
              "  </svg>\n",
              "      </button>\n",
              "      \n",
              "  <style>\n",
              "    .colab-df-container {\n",
              "      display:flex;\n",
              "      flex-wrap:wrap;\n",
              "      gap: 12px;\n",
              "    }\n",
              "\n",
              "    .colab-df-convert {\n",
              "      background-color: #E8F0FE;\n",
              "      border: none;\n",
              "      border-radius: 50%;\n",
              "      cursor: pointer;\n",
              "      display: none;\n",
              "      fill: #1967D2;\n",
              "      height: 32px;\n",
              "      padding: 0 0 0 0;\n",
              "      width: 32px;\n",
              "    }\n",
              "\n",
              "    .colab-df-convert:hover {\n",
              "      background-color: #E2EBFA;\n",
              "      box-shadow: 0px 1px 2px rgba(60, 64, 67, 0.3), 0px 1px 3px 1px rgba(60, 64, 67, 0.15);\n",
              "      fill: #174EA6;\n",
              "    }\n",
              "\n",
              "    [theme=dark] .colab-df-convert {\n",
              "      background-color: #3B4455;\n",
              "      fill: #D2E3FC;\n",
              "    }\n",
              "\n",
              "    [theme=dark] .colab-df-convert:hover {\n",
              "      background-color: #434B5C;\n",
              "      box-shadow: 0px 1px 3px 1px rgba(0, 0, 0, 0.15);\n",
              "      filter: drop-shadow(0px 1px 2px rgba(0, 0, 0, 0.3));\n",
              "      fill: #FFFFFF;\n",
              "    }\n",
              "  </style>\n",
              "\n",
              "      <script>\n",
              "        const buttonEl =\n",
              "          document.querySelector('#df-857fe785-2920-426a-82b7-dd3112da73df button.colab-df-convert');\n",
              "        buttonEl.style.display =\n",
              "          google.colab.kernel.accessAllowed ? 'block' : 'none';\n",
              "\n",
              "        async function convertToInteractive(key) {\n",
              "          const element = document.querySelector('#df-857fe785-2920-426a-82b7-dd3112da73df');\n",
              "          const dataTable =\n",
              "            await google.colab.kernel.invokeFunction('convertToInteractive',\n",
              "                                                     [key], {});\n",
              "          if (!dataTable) return;\n",
              "\n",
              "          const docLinkHtml = 'Like what you see? Visit the ' +\n",
              "            '<a target=\"_blank\" href=https://colab.research.google.com/notebooks/data_table.ipynb>data table notebook</a>'\n",
              "            + ' to learn more about interactive tables.';\n",
              "          element.innerHTML = '';\n",
              "          dataTable['output_type'] = 'display_data';\n",
              "          await google.colab.output.renderOutput(dataTable, element);\n",
              "          const docLink = document.createElement('div');\n",
              "          docLink.innerHTML = docLinkHtml;\n",
              "          element.appendChild(docLink);\n",
              "        }\n",
              "      </script>\n",
              "    </div>\n",
              "  </div>\n",
              "  "
            ]
          },
          "metadata": {},
          "execution_count": 13
        }
      ],
      "source": [
        "def perc_95(column):\n",
        "    return np.percentile(column, 95)\n",
        "def perc_99(column):\n",
        "    return np.percentile(column, 99)  \n",
        "df.groupby('variant_name').agg({'user_id':'nunique', \n",
        "                                'revenue':['count', 'sum', 'mean', 'median', perc_95, perc_99, 'sum']})"
      ]
    },
    {
      "cell_type": "code",
      "execution_count": 14,
      "id": "7659aef1",
      "metadata": {
        "execution": {
          "iopub.execute_input": "2023-04-09T20:37:24.843655Z",
          "iopub.status.busy": "2023-04-09T20:37:24.843246Z",
          "iopub.status.idle": "2023-04-09T20:37:25.045566Z",
          "shell.execute_reply": "2023-04-09T20:37:25.044256Z"
        },
        "papermill": {
          "duration": 0.214015,
          "end_time": "2023-04-09T20:37:25.047868",
          "exception": false,
          "start_time": "2023-04-09T20:37:24.833853",
          "status": "completed"
        },
        "tags": [],
        "colab": {
          "base_uri": "https://localhost:8080/",
          "height": 466
        },
        "id": "7659aef1",
        "outputId": "a3b4b64d-7df2-4f02-9ece-62ea3895acc8"
      },
      "outputs": [
        {
          "output_type": "execute_result",
          "data": {
            "text/plain": [
              "<Axes: xlabel='revenue', ylabel='variant_name'>"
            ]
          },
          "metadata": {},
          "execution_count": 14
        },
        {
          "output_type": "display_data",
          "data": {
            "text/plain": [
              "<Figure size 640x480 with 1 Axes>"
            ],
            "image/png": "[encoded data removed]"
          },
          "metadata": {}
        }
      ],
      "source": [
        "sns.boxplot(data = df, x = 'revenue', y = 'variant_name')"
      ]
    },
    {
      "cell_type": "code",
      "source": [
        "sns.set(rc={'figure.figsize':(6,3)}, style=\"whitegrid\", palette=\"pastel\")\n",
        "sns.histplot(data = df, x = 'revenue', hue='variant_name', kde=True, bins=50) "
      ],
      "metadata": {
        "colab": {
          "base_uri": "https://localhost:8080/",
          "height": 336
        },
        "id": "yx0ROJ6h7p7w",
        "outputId": "f3a9a9da-2213-4036-fae1-742bb820097f"
      },
      "id": "yx0ROJ6h7p7w",
      "execution_count": 15,
      "outputs": [
        {
          "output_type": "execute_result",
          "data": {
            "text/plain": [
              "<Axes: xlabel='revenue', ylabel='Count'>"
            ]
          },
          "metadata": {},
          "execution_count": 15
        },
        {
          "output_type": "display_data",
          "data": {
            "text/plain": [
              "<Figure size 600x300 with 1 Axes>"
            ],
            "image/png": "[encoded data removed]"
          },
          "metadata": {}
        }
      ]
    },
    {
      "cell_type": "markdown",
      "id": "48b478dc",
      "metadata": {
        "papermill": {
          "duration": 0.00801,
          "end_time": "2023-04-09T20:37:25.064534",
          "exception": false,
          "start_time": "2023-04-09T20:37:25.056524",
          "status": "completed"
        },
        "tags": [],
        "id": "48b478dc"
      },
      "source": [
        "#### Paying Users"
      ]
    },
    {
      "cell_type": "code",
      "execution_count": 16,
      "id": "daa9fa23",
      "metadata": {
        "execution": {
          "iopub.execute_input": "2023-04-09T20:37:25.082021Z",
          "iopub.status.busy": "2023-04-09T20:37:25.081702Z",
          "iopub.status.idle": "2023-04-09T20:37:25.106963Z",
          "shell.execute_reply": "2023-04-09T20:37:25.106052Z"
        },
        "papermill": {
          "duration": 0.037054,
          "end_time": "2023-04-09T20:37:25.109562",
          "exception": false,
          "start_time": "2023-04-09T20:37:25.072508",
          "status": "completed"
        },
        "tags": [],
        "colab": {
          "base_uri": "https://localhost:8080/",
          "height": 175
        },
        "id": "daa9fa23",
        "outputId": "8b135d28-a472-4adc-f41b-c27f78872b15"
      },
      "outputs": [
        {
          "output_type": "execute_result",
          "data": {
            "text/plain": [
              "             user_id revenue                                                                                                                                                   \n",
              "             nunique   count                  sum                  min                 mean               median              perc_95              perc_99                  sum\n",
              "variant_name                                                                                                                                                                   \n",
              "control           53      53              274.550                0.020                5.180                2.990               17.654               24.510              274.550\n",
              "variant           42      43              179.320                0.020                4.170                2.720               12.990               21.541              179.320"
            ],
            "text/html": [
              "\n",
              "  <div id=\"df-7ab9d3d7-3c12-4d82-a900-bc21524396bd\">\n",
              "    <div class=\"colab-df-container\">\n",
              "      <div>\n",
              "<style scoped>\n",
              "    .dataframe tbody tr th:only-of-type {\n",
              "        vertical-align: middle;\n",
              "    }\n",
              "\n",
              "    .dataframe tbody tr th {\n",
              "        vertical-align: top;\n",
              "    }\n",
              "\n",
              "    .dataframe thead tr th {\n",
              "        text-align: left;\n",
              "    }\n",
              "\n",
              "    .dataframe thead tr:last-of-type th {\n",
              "        text-align: right;\n",
              "    }\n",
              "</style>\n",
              "<table border=\"1\" class=\"dataframe\">\n",
              "  <thead>\n",
              "    <tr>\n",
              "      <th></th>\n",
              "      <th>user_id</th>\n",
              "      <th colspan=\"8\" halign=\"left\">revenue</th>\n",
              "    </tr>\n",
              "    <tr>\n",
              "      <th></th>\n",
              "      <th>nunique</th>\n",
              "      <th>count</th>\n",
              "      <th>sum</th>\n",
              "      <th>min</th>\n",
              "      <th>mean</th>\n",
              "      <th>median</th>\n",
              "      <th>perc_95</th>\n",
              "      <th>perc_99</th>\n",
              "      <th>sum</th>\n",
              "    </tr>\n",
              "    <tr>\n",
              "      <th>variant_name</th>\n",
              "      <th></th>\n",
              "      <th></th>\n",
              "      <th></th>\n",
              "      <th></th>\n",
              "      <th></th>\n",
              "      <th></th>\n",
              "      <th></th>\n",
              "      <th></th>\n",
              "      <th></th>\n",
              "    </tr>\n",
              "  </thead>\n",
              "  <tbody>\n",
              "    <tr>\n",
              "      <th>control</th>\n",
              "      <td>53</td>\n",
              "      <td>53</td>\n",
              "      <td>274.550</td>\n",
              "      <td>0.020</td>\n",
              "      <td>5.180</td>\n",
              "      <td>2.990</td>\n",
              "      <td>17.654</td>\n",
              "      <td>24.510</td>\n",
              "      <td>274.550</td>\n",
              "    </tr>\n",
              "    <tr>\n",
              "      <th>variant</th>\n",
              "      <td>42</td>\n",
              "      <td>43</td>\n",
              "      <td>179.320</td>\n",
              "      <td>0.020</td>\n",
              "      <td>4.170</td>\n",
              "      <td>2.720</td>\n",
              "      <td>12.990</td>\n",
              "      <td>21.541</td>\n",
              "      <td>179.320</td>\n",
              "    </tr>\n",
              "  </tbody>\n",
              "</table>\n",
              "</div>\n",
              "      <button class=\"colab-df-convert\" onclick=\"convertToInteractive('df-7ab9d3d7-3c12-4d82-a900-bc21524396bd')\"\n",
              "              title=\"Convert this dataframe to an interactive table.\"\n",
              "              style=\"display:none;\">\n",
              "        \n",
              "  <svg xmlns=\"http://www.w3.org/2000/svg\" height=\"24px\"viewBox=\"0 0 24 24\"\n",
              "       width=\"24px\">\n",
              "    <path d=\"M0 0h24v24H0V0z\" fill=\"none\"/>\n",
              "    <path d=\"M18.56 5.44l.94 2.06.94-2.06 2.06-.94-2.06-.94-.94-2.06-.94 2.06-2.06.94zm-11 1L8.5 8.5l.94-2.06 2.06-.94-2.06-.94L8.5 2.5l-.94 2.06-2.06.94zm10 10l.94 2.06.94-2.06 2.06-.94-2.06-.94-.94-2.06-.94 2.06-2.06.94z\"/><path d=\"M17.41 7.96l-1.37-1.37c-.4-.4-.92-.59-1.43-.59-.52 0-1.04.2-1.43.59L10.3 9.45l-7.72 7.72c-.78.78-.78 2.05 0 2.83L4 21.41c.39.39.9.59 1.41.59.51 0 1.02-.2 1.41-.59l7.78-7.78 2.81-2.81c.8-.78.8-2.07 0-2.86zM5.41 20L4 18.59l7.72-7.72 1.47 1.35L5.41 20z\"/>\n",
              "  </svg>\n",
              "      </button>\n",
              "      \n",
              "  <style>\n",
              "    .colab-df-container {\n",
              "      display:flex;\n",
              "      flex-wrap:wrap;\n",
              "      gap: 12px;\n",
              "    }\n",
              "\n",
              "    .colab-df-convert {\n",
              "      background-color: #E8F0FE;\n",
              "      border: none;\n",
              "      border-radius: 50%;\n",
              "      cursor: pointer;\n",
              "      display: none;\n",
              "      fill: #1967D2;\n",
              "      height: 32px;\n",
              "      padding: 0 0 0 0;\n",
              "      width: 32px;\n",
              "    }\n",
              "\n",
              "    .colab-df-convert:hover {\n",
              "      background-color: #E2EBFA;\n",
              "      box-shadow: 0px 1px 2px rgba(60, 64, 67, 0.3), 0px 1px 3px 1px rgba(60, 64, 67, 0.15);\n",
              "      fill: #174EA6;\n",
              "    }\n",
              "\n",
              "    [theme=dark] .colab-df-convert {\n",
              "      background-color: #3B4455;\n",
              "      fill: #D2E3FC;\n",
              "    }\n",
              "\n",
              "    [theme=dark] .colab-df-convert:hover {\n",
              "      background-color: #434B5C;\n",
              "      box-shadow: 0px 1px 3px 1px rgba(0, 0, 0, 0.15);\n",
              "      filter: drop-shadow(0px 1px 2px rgba(0, 0, 0, 0.3));\n",
              "      fill: #FFFFFF;\n",
              "    }\n",
              "  </style>\n",
              "\n",
              "      <script>\n",
              "        const buttonEl =\n",
              "          document.querySelector('#df-7ab9d3d7-3c12-4d82-a900-bc21524396bd button.colab-df-convert');\n",
              "        buttonEl.style.display =\n",
              "          google.colab.kernel.accessAllowed ? 'block' : 'none';\n",
              "\n",
              "        async function convertToInteractive(key) {\n",
              "          const element = document.querySelector('#df-7ab9d3d7-3c12-4d82-a900-bc21524396bd');\n",
              "          const dataTable =\n",
              "            await google.colab.kernel.invokeFunction('convertToInteractive',\n",
              "                                                     [key], {});\n",
              "          if (!dataTable) return;\n",
              "\n",
              "          const docLinkHtml = 'Like what you see? Visit the ' +\n",
              "            '<a target=\"_blank\" href=https://colab.research.google.com/notebooks/data_table.ipynb>data table notebook</a>'\n",
              "            + ' to learn more about interactive tables.';\n",
              "          element.innerHTML = '';\n",
              "          dataTable['output_type'] = 'display_data';\n",
              "          await google.colab.output.renderOutput(dataTable, element);\n",
              "          const docLink = document.createElement('div');\n",
              "          docLink.innerHTML = docLinkHtml;\n",
              "          element.appendChild(docLink);\n",
              "        }\n",
              "      </script>\n",
              "    </div>\n",
              "  </div>\n",
              "  "
            ]
          },
          "metadata": {},
          "execution_count": 16
        }
      ],
      "source": [
        "df_revenue = df.query('revenue > 0')\n",
        "df_revenue.groupby('variant_name').agg({'user_id':'nunique', \n",
        "                                        'revenue':['count', 'sum', 'min', 'mean', 'median', perc_95, perc_99, 'sum']})"
      ]
    },
    {
      "cell_type": "code",
      "execution_count": 17,
      "id": "2416637e",
      "metadata": {
        "execution": {
          "iopub.execute_input": "2023-04-09T20:37:25.129066Z",
          "iopub.status.busy": "2023-04-09T20:37:25.128644Z",
          "iopub.status.idle": "2023-04-09T20:37:25.287263Z",
          "shell.execute_reply": "2023-04-09T20:37:25.286424Z"
        },
        "papermill": {
          "duration": 0.170732,
          "end_time": "2023-04-09T20:37:25.289185",
          "exception": false,
          "start_time": "2023-04-09T20:37:25.118453",
          "status": "completed"
        },
        "tags": [],
        "colab": {
          "base_uri": "https://localhost:8080/",
          "height": 336
        },
        "id": "2416637e",
        "outputId": "3cd8d0be-afd2-40c6-a0eb-b72a95a91d4c"
      },
      "outputs": [
        {
          "output_type": "execute_result",
          "data": {
            "text/plain": [
              "<Axes: xlabel='revenue', ylabel='variant_name'>"
            ]
          },
          "metadata": {},
          "execution_count": 17
        },
        {
          "output_type": "display_data",
          "data": {
            "text/plain": [
              "<Figure size 600x300 with 1 Axes>"
            ],
            "image/png": "[encoded data removed]"
          },
          "metadata": {}
        }
      ],
      "source": [
        "sns.boxplot(data = df_revenue, x = 'revenue', y = 'variant_name')"
      ]
    },
    {
      "cell_type": "code",
      "source": [
        "sns.set(rc={'figure.figsize':(6,3)}, style=\"whitegrid\", palette=\"pastel\")\n",
        "sns.histplot(data=df_revenue, x='revenue', hue='variant_name', kde=True, bins=50)"
      ],
      "metadata": {
        "colab": {
          "base_uri": "https://localhost:8080/",
          "height": 336
        },
        "id": "Rv-2Qdud7IgM",
        "outputId": "9ff39ca0-3ff9-42ed-d4ca-fe1fd52e03c3"
      },
      "id": "Rv-2Qdud7IgM",
      "execution_count": 18,
      "outputs": [
        {
          "output_type": "execute_result",
          "data": {
            "text/plain": [
              "<Axes: xlabel='revenue', ylabel='Count'>"
            ]
          },
          "metadata": {},
          "execution_count": 18
        },
        {
          "output_type": "display_data",
          "data": {
            "text/plain": [
              "<Figure size 600x300 with 1 Axes>"
            ],
            "image/png": "[encoded data removed]"
          },
          "metadata": {}
        }
      ]
    },
    {
      "cell_type": "markdown",
      "id": "b9e8405e",
      "metadata": {
        "papermill": {
          "duration": 0.008507,
          "end_time": "2023-04-09T20:37:25.306945",
          "exception": false,
          "start_time": "2023-04-09T20:37:25.298438",
          "status": "completed"
        },
        "tags": [],
        "id": "b9e8405e"
      },
      "source": [
        "#### CR / ARPU / ARPPU"
      ]
    },
    {
      "cell_type": "code",
      "execution_count": 19,
      "id": "7716de87",
      "metadata": {
        "execution": {
          "iopub.execute_input": "2023-04-09T20:37:25.327074Z",
          "iopub.status.busy": "2023-04-09T20:37:25.325473Z",
          "iopub.status.idle": "2023-04-09T20:37:25.350962Z",
          "shell.execute_reply": "2023-04-09T20:37:25.349795Z"
        },
        "papermill": {
          "duration": 0.037283,
          "end_time": "2023-04-09T20:37:25.352874",
          "exception": false,
          "start_time": "2023-04-09T20:37:25.315591",
          "status": "completed"
        },
        "tags": [],
        "colab": {
          "base_uri": "https://localhost:8080/",
          "height": 143
        },
        "id": "7716de87",
        "outputId": "6d9825c6-9107-43e1-a207-960329c12f86"
      },
      "outputs": [
        {
          "output_type": "execute_result",
          "data": {
            "text/plain": [
              "              users              revenue  paying_users                   cr                 arpu                arppu\n",
              "variant_name                                                                                                         \n",
              "control        2389              274.550            53                0.022                0.115                5.180\n",
              "variant        2393              179.320            42                0.018                0.075                4.270"
            ],
            "text/html": [
              "\n",
              "  <div id=\"df-75390e2d-518d-4edd-b2ee-6c1acc4e01ba\">\n",
              "    <div class=\"colab-df-container\">\n",
              "      <div>\n",
              "<style scoped>\n",
              "    .dataframe tbody tr th:only-of-type {\n",
              "        vertical-align: middle;\n",
              "    }\n",
              "\n",
              "    .dataframe tbody tr th {\n",
              "        vertical-align: top;\n",
              "    }\n",
              "\n",
              "    .dataframe thead th {\n",
              "        text-align: right;\n",
              "    }\n",
              "</style>\n",
              "<table border=\"1\" class=\"dataframe\">\n",
              "  <thead>\n",
              "    <tr style=\"text-align: right;\">\n",
              "      <th></th>\n",
              "      <th>users</th>\n",
              "      <th>revenue</th>\n",
              "      <th>paying_users</th>\n",
              "      <th>cr</th>\n",
              "      <th>arpu</th>\n",
              "      <th>arppu</th>\n",
              "    </tr>\n",
              "    <tr>\n",
              "      <th>variant_name</th>\n",
              "      <th></th>\n",
              "      <th></th>\n",
              "      <th></th>\n",
              "      <th></th>\n",
              "      <th></th>\n",
              "      <th></th>\n",
              "    </tr>\n",
              "  </thead>\n",
              "  <tbody>\n",
              "    <tr>\n",
              "      <th>control</th>\n",
              "      <td>2389</td>\n",
              "      <td>274.550</td>\n",
              "      <td>53</td>\n",
              "      <td>0.022</td>\n",
              "      <td>0.115</td>\n",
              "      <td>5.180</td>\n",
              "    </tr>\n",
              "    <tr>\n",
              "      <th>variant</th>\n",
              "      <td>2393</td>\n",
              "      <td>179.320</td>\n",
              "      <td>42</td>\n",
              "      <td>0.018</td>\n",
              "      <td>0.075</td>\n",
              "      <td>4.270</td>\n",
              "    </tr>\n",
              "  </tbody>\n",
              "</table>\n",
              "</div>\n",
              "      <button class=\"colab-df-convert\" onclick=\"convertToInteractive('df-75390e2d-518d-4edd-b2ee-6c1acc4e01ba')\"\n",
              "              title=\"Convert this dataframe to an interactive table.\"\n",
              "              style=\"display:none;\">\n",
              "        \n",
              "  <svg xmlns=\"http://www.w3.org/2000/svg\" height=\"24px\"viewBox=\"0 0 24 24\"\n",
              "       width=\"24px\">\n",
              "    <path d=\"M0 0h24v24H0V0z\" fill=\"none\"/>\n",
              "    <path d=\"M18.56 5.44l.94 2.06.94-2.06 2.06-.94-2.06-.94-.94-2.06-.94 2.06-2.06.94zm-11 1L8.5 8.5l.94-2.06 2.06-.94-2.06-.94L8.5 2.5l-.94 2.06-2.06.94zm10 10l.94 2.06.94-2.06 2.06-.94-2.06-.94-.94-2.06-.94 2.06-2.06.94z\"/><path d=\"M17.41 7.96l-1.37-1.37c-.4-.4-.92-.59-1.43-.59-.52 0-1.04.2-1.43.59L10.3 9.45l-7.72 7.72c-.78.78-.78 2.05 0 2.83L4 21.41c.39.39.9.59 1.41.59.51 0 1.02-.2 1.41-.59l7.78-7.78 2.81-2.81c.8-.78.8-2.07 0-2.86zM5.41 20L4 18.59l7.72-7.72 1.47 1.35L5.41 20z\"/>\n",
              "  </svg>\n",
              "      </button>\n",
              "      \n",
              "  <style>\n",
              "    .colab-df-container {\n",
              "      display:flex;\n",
              "      flex-wrap:wrap;\n",
              "      gap: 12px;\n",
              "    }\n",
              "\n",
              "    .colab-df-convert {\n",
              "      background-color: #E8F0FE;\n",
              "      border: none;\n",
              "      border-radius: 50%;\n",
              "      cursor: pointer;\n",
              "      display: none;\n",
              "      fill: #1967D2;\n",
              "      height: 32px;\n",
              "      padding: 0 0 0 0;\n",
              "      width: 32px;\n",
              "    }\n",
              "\n",
              "    .colab-df-convert:hover {\n",
              "      background-color: #E2EBFA;\n",
              "      box-shadow: 0px 1px 2px rgba(60, 64, 67, 0.3), 0px 1px 3px 1px rgba(60, 64, 67, 0.15);\n",
              "      fill: #174EA6;\n",
              "    }\n",
              "\n",
              "    [theme=dark] .colab-df-convert {\n",
              "      background-color: #3B4455;\n",
              "      fill: #D2E3FC;\n",
              "    }\n",
              "\n",
              "    [theme=dark] .colab-df-convert:hover {\n",
              "      background-color: #434B5C;\n",
              "      box-shadow: 0px 1px 3px 1px rgba(0, 0, 0, 0.15);\n",
              "      filter: drop-shadow(0px 1px 2px rgba(0, 0, 0, 0.3));\n",
              "      fill: #FFFFFF;\n",
              "    }\n",
              "  </style>\n",
              "\n",
              "      <script>\n",
              "        const buttonEl =\n",
              "          document.querySelector('#df-75390e2d-518d-4edd-b2ee-6c1acc4e01ba button.colab-df-convert');\n",
              "        buttonEl.style.display =\n",
              "          google.colab.kernel.accessAllowed ? 'block' : 'none';\n",
              "\n",
              "        async function convertToInteractive(key) {\n",
              "          const element = document.querySelector('#df-75390e2d-518d-4edd-b2ee-6c1acc4e01ba');\n",
              "          const dataTable =\n",
              "            await google.colab.kernel.invokeFunction('convertToInteractive',\n",
              "                                                     [key], {});\n",
              "          if (!dataTable) return;\n",
              "\n",
              "          const docLinkHtml = 'Like what you see? Visit the ' +\n",
              "            '<a target=\"_blank\" href=https://colab.research.google.com/notebooks/data_table.ipynb>data table notebook</a>'\n",
              "            + ' to learn more about interactive tables.';\n",
              "          element.innerHTML = '';\n",
              "          dataTable['output_type'] = 'display_data';\n",
              "          await google.colab.output.renderOutput(dataTable, element);\n",
              "          const docLink = document.createElement('div');\n",
              "          docLink.innerHTML = docLinkHtml;\n",
              "          element.appendChild(docLink);\n",
              "        }\n",
              "      </script>\n",
              "    </div>\n",
              "  </div>\n",
              "  "
            ]
          },
          "metadata": {},
          "execution_count": 19
        }
      ],
      "source": [
        "t = df.groupby('variant_name').agg({'user_id':'nunique','revenue':'sum'})\n",
        "t_paying_users = df_revenue.groupby('variant_name').agg({'user_id':'nunique'})\n",
        "t = (t.merge(t_paying_users, on='variant_name', how='left')\n",
        "      .rename(columns={'variant_name':'variant_name', 'user_id_x':'users', 'user_id_y':'paying_users', 'revenue':'revenue'}))\n",
        "t['cr'] = t['paying_users'] / t['users']\n",
        "t['arpu'] = t['revenue'] / t['users']\n",
        "t['arppu'] = t['revenue'] / t['paying_users']\n",
        "t"
      ]
    },
    {
      "cell_type": "markdown",
      "source": [
        "- All metrics in control group higher than in variant group. Let's check difference of that groups in ab-test."
      ],
      "metadata": {
        "id": "lGENC2TjkUVJ"
      },
      "id": "lGENC2TjkUVJ"
    },
    {
      "cell_type": "markdown",
      "id": "7d587f59",
      "metadata": {
        "papermill": {
          "duration": 0.008576,
          "end_time": "2023-04-09T20:37:25.370407",
          "exception": false,
          "start_time": "2023-04-09T20:37:25.361831",
          "status": "completed"
        },
        "tags": [],
        "id": "7d587f59"
      },
      "source": [
        "## 🧪 Checking for the normality and A/B Testing"
      ]
    },
    {
      "cell_type": "code",
      "source": [
        "variant = df[df['variant_name'] == 'variant']['revenue']\n",
        "control = df[df['variant_name'] == 'control']['revenue']\n",
        "\n",
        "for group in [variant, control]:\n",
        "    stats.probplot(group, dist=\"norm\", plot=pylab)\n",
        "    pylab.show()\n",
        "    sns.set(rc={'figure.figsize':(6,3)}, style=\"whitegrid\", palette=\"pastel\")\n",
        "    x = shapiro(group)\n",
        "    if x.pvalue > 0.05:\n",
        "        print(f\"\\nP_value = {x.pvalue}. \\n\\nIt's normal distribution\\n\\n\")\n",
        "    else:\n",
        "        print(f\"\\nP_value = {x.pvalue}. \\n\\nIt's not normal distribution\\n\\n\")"
      ],
      "metadata": {
        "colab": {
          "base_uri": "https://localhost:8080/",
          "height": 875
        },
        "id": "usH5ilkKzT0y",
        "outputId": "736c8f52-e878-4244-f5af-22ba554b4df7"
      },
      "id": "usH5ilkKzT0y",
      "execution_count": 20,
      "outputs": [
        {
          "output_type": "display_data",
          "data": {
            "text/plain": [
              "<Figure size 600x300 with 1 Axes>"
            ],
            "image/png": "[encoded data removed]"
          },
          "metadata": {}
        },
        {
          "output_type": "stream",
          "name": "stdout",
          "text": [
            "\n",
            "P_value = 0.0. \n",
            "\n",
            "It's not normal distribution\n",
            "\n",
            "\n"
          ]
        },
        {
          "output_type": "display_data",
          "data": {
            "text/plain": [
              "<Figure size 600x300 with 1 Axes>"
            ],
            "image/png": "[encoded data removed]"
          },
          "metadata": {}
        },
        {
          "output_type": "stream",
          "name": "stdout",
          "text": [
            "\n",
            "P_value = 0.0. \n",
            "\n",
            "It's not normal distribution\n",
            "\n",
            "\n"
          ]
        }
      ]
    },
    {
      "cell_type": "code",
      "execution_count": 21,
      "id": "b4ab8f8c",
      "metadata": {
        "execution": {
          "iopub.execute_input": "2023-04-09T20:37:25.407033Z",
          "iopub.status.busy": "2023-04-09T20:37:25.406671Z",
          "iopub.status.idle": "2023-04-09T20:37:26.235646Z",
          "shell.execute_reply": "2023-04-09T20:37:26.234554Z"
        },
        "papermill": {
          "duration": 0.841129,
          "end_time": "2023-04-09T20:37:26.237741",
          "exception": false,
          "start_time": "2023-04-09T20:37:25.396612",
          "status": "completed"
        },
        "tags": [],
        "colab": {
          "base_uri": "https://localhost:8080/"
        },
        "id": "b4ab8f8c",
        "outputId": "fd200366-3e01-44b9-9bb9-2c14dff01a4e"
      },
      "outputs": [
        {
          "output_type": "stream",
          "name": "stdout",
          "text": [
            "\n",
            "P_value = 0.17149090193725022.\n",
            "\n",
            "Groups is similar.  Accept the hypothesis of equality of variances.\n"
          ]
        }
      ],
      "source": [
        "test_leven, p_value = stats.levene(variant, control)\n",
        "alpha = 0.05\n",
        "if p_value < alpha:\n",
        "    print(f'\\nP_value = {p_value}.\\n\\nGroups is different.  Reject the hypothesis of equality of variances.')\n",
        "else:\n",
        "    print(f'\\nP_value = {p_value}.\\n\\nGroups is similar.  Accept the hypothesis of equality of variances.')"
      ]
    },
    {
      "cell_type": "code",
      "execution_count": 22,
      "id": "63b81948",
      "metadata": {
        "execution": {
          "iopub.execute_input": "2023-04-09T20:37:26.259711Z",
          "iopub.status.busy": "2023-04-09T20:37:26.259266Z",
          "iopub.status.idle": "2023-04-09T20:37:26.269938Z",
          "shell.execute_reply": "2023-04-09T20:37:26.268521Z"
        },
        "papermill": {
          "duration": 0.024249,
          "end_time": "2023-04-09T20:37:26.272060",
          "exception": false,
          "start_time": "2023-04-09T20:37:26.247811",
          "status": "completed"
        },
        "tags": [],
        "colab": {
          "base_uri": "https://localhost:8080/"
        },
        "id": "63b81948",
        "outputId": "1faecd83-d100-458b-adc4-3b7524fdc999"
      },
      "outputs": [
        {
          "output_type": "stream",
          "name": "stdout",
          "text": [
            "\n",
            "P_value = 0.2859842308619548. \n",
            "\n",
            "Groups is similar. Accept the hypothesis of equality of revenue.\n"
          ]
        }
      ],
      "source": [
        "def ab_test(a, b): \n",
        "    alpha = 0.05 \n",
        "    revenue_difference_mannwhitney = mannwhitneyu(variant, control)\n",
        "    if revenue_difference_mannwhitney.pvalue < alpha:  \n",
        "        print(f\"\\nP_value = {revenue_difference_mannwhitney.pvalue} \\n\\nGroups is different. Reject the hypothesis of equality of revenue.\")\n",
        "    else: \n",
        "        print(f\"\\nP_value = {revenue_difference_mannwhitney.pvalue}. \\n\\nGroups is similar. Accept the hypothesis of equality of revenue.\")\n",
        "ab_test(variant, control)        "
      ]
    },
    {
      "cell_type": "markdown",
      "id": "af1376c1",
      "metadata": {
        "papermill": {
          "duration": 0.010878,
          "end_time": "2023-04-09T20:37:27.149780",
          "exception": false,
          "start_time": "2023-04-09T20:37:27.138902",
          "status": "completed"
        },
        "tags": [],
        "id": "af1376c1"
      },
      "source": [
        "## 📚 Inferences\n",
        "\n",
        "- The revenue of the control group, convertion rate, average revenue per user and average revenue per paying user is higher. \n",
        "- But ab-test shown that users in variant and control groups are similar. "
      ]
    },
    {
      "cell_type": "code",
      "source": [],
      "metadata": {
        "id": "VPhLnQ181hMq"
      },
      "id": "VPhLnQ181hMq",
      "execution_count": 22,
      "outputs": []
    }
  ],
  "metadata": {
    "kernelspec": {
      "display_name": "Python 3",
      "language": "python",
      "name": "python3"
    },
    "language_info": {
      "codemirror_mode": {
        "name": "ipython",
        "version": 3
      },
      "file_extension": ".py",
      "mimetype": "text/x-python",
      "name": "python",
      "nbconvert_exporter": "python",
      "pygments_lexer": "ipython3",
      "version": "3.7.12"
    },
    "papermill": {
      "default_parameters": {},
      "duration": 14.990876,
      "end_time": "2023-04-09T20:37:27.883107",
      "environment_variables": {},
      "exception": null,
      "input_path": "__notebook__.ipynb",
      "output_path": "__notebook__.ipynb",
      "parameters": {},
      "start_time": "2023-04-09T20:37:12.892231",
      "version": "2.4.0"
    },
    "colab": {
      "provenance": [],
      "toc_visible": true,
      "include_colab_link": true
    }
  },
  "nbformat": 4,
  "nbformat_minor": 5
}